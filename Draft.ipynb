{
 "cells": [
  {
   "cell_type": "code",
   "execution_count": 1,
   "id": "9271bf4e-4565-4234-b6b6-c2e182ad7715",
   "metadata": {},
   "outputs": [
    {
     "name": "stderr",
     "output_type": "stream",
     "text": [
      "\n",
      "Attaching package: 'dplyr'\n",
      "\n",
      "\n",
      "The following objects are masked from 'package:stats':\n",
      "\n",
      "    filter, lag\n",
      "\n",
      "\n",
      "The following objects are masked from 'package:base':\n",
      "\n",
      "    intersect, setdiff, setequal, union\n",
      "\n",
      "\n"
     ]
    }
   ],
   "source": [
    "library(dplyr)\n",
    "library(ggplot2)\n",
    "library(stringr)\n",
    "library(purrr)"
   ]
  },
  {
   "cell_type": "code",
   "execution_count": 2,
   "id": "56ad951b-f25f-41d0-ac53-a0d952f64172",
   "metadata": {},
   "outputs": [
    {
     "data": {
      "image/png": "[encoded data removed]",
      "text/plain": [
       "plot without title"
      ]
     },
     "metadata": {
      "image/png": {
       "height": 420,
       "width": 420
      }
     },
     "output_type": "display_data"
    }
   ],
   "source": [
    "cherry_df <- read.csv(\"data/street-trees.csv\", sep = \";\") |>\n",
    "    mutate(\"DIAMETER_CM\" = DIAMETER * 2.54) |>\n",
    "    filter(GENUS_NAME == \"PRUNUS\" & DIAMETER_CM > 0 & DIAMETER_CM <= 150)\n",
    "\n",
    "cherry_diam <- ggplot(cherry_df) +\n",
    "    aes(x = DIAMETER_CM) +\n",
    "    geom_density(fill = \"#F3B2D2\", alpha = 0.4, size = 0) +\n",
    "    geom_density(color = \"#B665A4\", size = 1) +\n",
    "    labs(y = \"Density\",\n",
    "         x = \"Tree diameter (cm)\") +\n",
    "    theme(axis.text.y = element_blank())\n",
    "\n",
    "\n",
    "cherry_diam"
   ]
  },
  {
   "cell_type": "code",
   "execution_count": 6,
   "id": "b0d55864-93e1-425f-b737-a0c95ba893d4",
   "metadata": {},
   "outputs": [],
   "source": [
    "nb_list <- c(unique(cherry_df$NEIGHBOURHOOD_NAME), 'All neighbourhoods') |>\n",
    "    sort()\n",
    "\n",
    "# # new_list <- map(nb_list, function(item) list(label = item, value = item))\n",
    "\n",
    "# nb_opts <- c()\n",
    "# for(i in nb_list) {\n",
    "#   new_value <- list(list(label = i, value = i))\n",
    "#   nb_opts <- c(nb_opts, new_value)\n",
    "# }"
   ]
  },
  {
   "cell_type": "code",
   "execution_count": 7,
   "id": "bafaa4c6-ecdf-4dff-b1b7-b6c6aeb0af75",
   "metadata": {},
   "outputs": [
    {
     "data": {
      "text/html": [
       "<style>\n",
       ".list-inline {list-style: none; margin:0; padding: 0}\n",
       ".list-inline>li {display: inline-block}\n",
       ".list-inline>li:not(:last-child)::after {content: \"\\00b7\"; padding: 0 .5ex}\n",
       "</style>\n",
       "<ol class=list-inline><li>'All neighbourhoods'</li><li>'ARBUTUS-RIDGE'</li><li>'DOWNTOWN'</li><li>'DUNBAR-SOUTHLANDS'</li><li>'FAIRVIEW'</li><li>'GRANDVIEW-WOODLAND'</li><li>'HASTINGS-SUNRISE'</li><li>'KENSINGTON-CEDAR COTTAGE'</li><li>'KERRISDALE'</li><li>'KILLARNEY'</li><li>'KITSILANO'</li><li>'MARPOLE'</li><li>'MOUNT PLEASANT'</li><li>'OAKRIDGE'</li><li>'RENFREW-COLLINGWOOD'</li><li>'RILEY PARK'</li><li>'SHAUGHNESSY'</li><li>'SOUTH CAMBIE'</li><li>'STRATHCONA'</li><li>'SUNSET'</li><li>'VICTORIA-FRASERVIEW'</li><li>'WEST END'</li><li>'WEST POINT GREY'</li></ol>\n"
      ],
      "text/latex": [
       "\\begin{enumerate*}\n",
       "\\item 'All neighbourhoods'\n",
       "\\item 'ARBUTUS-RIDGE'\n",
       "\\item 'DOWNTOWN'\n",
       "\\item 'DUNBAR-SOUTHLANDS'\n",
       "\\item 'FAIRVIEW'\n",
       "\\item 'GRANDVIEW-WOODLAND'\n",
       "\\item 'HASTINGS-SUNRISE'\n",
       "\\item 'KENSINGTON-CEDAR COTTAGE'\n",
       "\\item 'KERRISDALE'\n",
       "\\item 'KILLARNEY'\n",
       "\\item 'KITSILANO'\n",
       "\\item 'MARPOLE'\n",
       "\\item 'MOUNT PLEASANT'\n",
       "\\item 'OAKRIDGE'\n",
       "\\item 'RENFREW-COLLINGWOOD'\n",
       "\\item 'RILEY PARK'\n",
       "\\item 'SHAUGHNESSY'\n",
       "\\item 'SOUTH CAMBIE'\n",
       "\\item 'STRATHCONA'\n",
       "\\item 'SUNSET'\n",
       "\\item 'VICTORIA-FRASERVIEW'\n",
       "\\item 'WEST END'\n",
       "\\item 'WEST POINT GREY'\n",
       "\\end{enumerate*}\n"
      ],
      "text/markdown": [
       "1. 'All neighbourhoods'\n",
       "2. 'ARBUTUS-RIDGE'\n",
       "3. 'DOWNTOWN'\n",
       "4. 'DUNBAR-SOUTHLANDS'\n",
       "5. 'FAIRVIEW'\n",
       "6. 'GRANDVIEW-WOODLAND'\n",
       "7. 'HASTINGS-SUNRISE'\n",
       "8. 'KENSINGTON-CEDAR COTTAGE'\n",
       "9. 'KERRISDALE'\n",
       "10. 'KILLARNEY'\n",
       "11. 'KITSILANO'\n",
       "12. 'MARPOLE'\n",
       "13. 'MOUNT PLEASANT'\n",
       "14. 'OAKRIDGE'\n",
       "15. 'RENFREW-COLLINGWOOD'\n",
       "16. 'RILEY PARK'\n",
       "17. 'SHAUGHNESSY'\n",
       "18. 'SOUTH CAMBIE'\n",
       "19. 'STRATHCONA'\n",
       "20. 'SUNSET'\n",
       "21. 'VICTORIA-FRASERVIEW'\n",
       "22. 'WEST END'\n",
       "23. 'WEST POINT GREY'\n",
       "\n",
       "\n"
      ],
      "text/plain": [
       " [1] \"All neighbourhoods\"       \"ARBUTUS-RIDGE\"           \n",
       " [3] \"DOWNTOWN\"                 \"DUNBAR-SOUTHLANDS\"       \n",
       " [5] \"FAIRVIEW\"                 \"GRANDVIEW-WOODLAND\"      \n",
       " [7] \"HASTINGS-SUNRISE\"         \"KENSINGTON-CEDAR COTTAGE\"\n",
       " [9] \"KERRISDALE\"               \"KILLARNEY\"               \n",
       "[11] \"KITSILANO\"                \"MARPOLE\"                 \n",
       "[13] \"MOUNT PLEASANT\"           \"OAKRIDGE\"                \n",
       "[15] \"RENFREW-COLLINGWOOD\"      \"RILEY PARK\"              \n",
       "[17] \"SHAUGHNESSY\"              \"SOUTH CAMBIE\"            \n",
       "[19] \"STRATHCONA\"               \"SUNSET\"                  \n",
       "[21] \"VICTORIA-FRASERVIEW\"      \"WEST END\"                \n",
       "[23] \"WEST POINT GREY\"         "
      ]
     },
     "metadata": {},
     "output_type": "display_data"
    }
   ],
   "source": [
    "sort(nb_list)"
   ]
  },
  {
   "cell_type": "code",
   "execution_count": null,
   "id": "9e01ff5c-220e-4b9d-b203-cbe4235426a7",
   "metadata": {},
   "outputs": [],
   "source": [
    "cherry_df"
   ]
  },
  {
   "cell_type": "code",
   "execution_count": null,
   "id": "f05afe76-34b6-4268-a5dd-df79d7c05c6e",
   "metadata": {},
   "outputs": [],
   "source": []
  }
 ],
 "metadata": {
  "kernelspec": {
   "display_name": "R",
   "language": "R",
   "name": "ir"
  },
  "language_info": {
   "codemirror_mode": "r",
   "file_extension": ".r",
   "mimetype": "text/x-r-source",
   "name": "R",
   "pygments_lexer": "r",
   "version": "4.1.2"
  }
 },
 "nbformat": 4,
 "nbformat_minor": 5
}
